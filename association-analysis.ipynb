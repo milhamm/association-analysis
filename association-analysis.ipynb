{
 "cells": [
  {
   "cell_type": "code",
   "execution_count": 1,
   "source": [
    "import pandas as pd\n",
    "import numpy as np\n",
    "import os"
   ],
   "outputs": [],
   "metadata": {}
  },
  {
   "cell_type": "code",
   "execution_count": 3,
   "source": [
    "def process_dataset(filename):\n",
    "    with open(filename) as f:\n",
    "        content = f.readlines()\n",
    "\n",
    "    print(content[0])\n",
    "\n",
    "    attributes = content[0].split(' ')\n",
    "\n",
    "process_dataset('plantCellSignaling.data')\n",
    "\n"
   ],
   "outputs": [
    {
     "output_type": "stream",
     "name": "stdout",
     "text": [
      "ABA\tCLOSURE\tCa\tCaATPase\tCAIM\tCIS\tABH1\tGCR\tERA1\tPEPC\tOST\tSPHK\tPH\tPLD\tROP2\tKEV\tAGB\tRAC\tRCN\tNIA12\tPLC\tInsPK\tIP6\tADPRc\tGC\tNOS\tS1P\tPA\tIP3\tcADPR\tcGMP\tMALATE\tATRBOH\tGPA\tROS\tAnionEM\tABI\tDEPOLAR\tHATPase\tKOUT\tKAP\tActin\tNO\t\n",
      "\n"
     ]
    }
   ],
   "metadata": {}
  },
  {
   "cell_type": "markdown",
   "source": [],
   "metadata": {}
  }
 ],
 "metadata": {
  "orig_nbformat": 4,
  "language_info": {
   "name": "python",
   "version": "3.9.0",
   "mimetype": "text/x-python",
   "codemirror_mode": {
    "name": "ipython",
    "version": 3
   },
   "pygments_lexer": "ipython3",
   "nbconvert_exporter": "python",
   "file_extension": ".py"
  },
  "kernelspec": {
   "name": "python3",
   "display_name": "Python 3.9.0 64-bit"
  },
  "interpreter": {
   "hash": "1ef2aa9c3263e35572280c43a636090afbda352cb7456d858433bc6d0518c73c"
  }
 },
 "nbformat": 4,
 "nbformat_minor": 2
}